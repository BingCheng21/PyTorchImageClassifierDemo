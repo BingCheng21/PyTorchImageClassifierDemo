{
 "cells": [
  {
   "cell_type": "markdown",
   "id": "0997a132",
   "metadata": {},
   "source": [
    "# PyTorch Cats vs Dogs Classifier"
   ]
  },
  {
   "cell_type": "markdown",
   "id": "3e5b61a7",
   "metadata": {},
   "source": [
    "## import libraries"
   ]
  },
  {
   "cell_type": "code",
   "execution_count": null,
   "id": "94259202",
   "metadata": {},
   "outputs": [],
   "source": [
    "import torch\n",
    "import torch.nn as nn\n",
    "import torch.optim as optim\n",
    "from torchvision import datasets, models, transforms\n",
    "import matplotlib.pyplot as plt\n",
    "import os\n",
    "import import_ipynb\n",
    "from SimpleCNN import SimpleCNN\n",
    "\n",
    "# Import constants defined in another file\n",
    "import Constants"
   ]
  },
  {
   "cell_type": "markdown",
   "id": "eee435f3",
   "metadata": {},
   "source": [
    "## 1. Transformations"
   ]
  },
  {
   "cell_type": "code",
   "execution_count": 11,
   "id": "eab4c39f",
   "metadata": {},
   "outputs": [],
   "source": [
    "tranform = {\n",
    "    'train': transforms.Compose([\n",
    "        transforms.Resize((128, 128)),\n",
    "        transforms.RandomHorizontalFlip(),\n",
    "        transforms.ToTensor()\n",
    "    ]),\n",
    "    'val': transforms.Compose([\n",
    "        transforms.Resize((128, 128)),\n",
    "        transforms.ToTensor()\n",
    "    ])\n",
    "}"
   ]
  },
  {
   "cell_type": "markdown",
   "id": "573c96ea",
   "metadata": {},
   "source": [
    "## 2. Load datasets"
   ]
  },
  {
   "cell_type": "code",
   "execution_count": 12,
   "id": "3350b33d",
   "metadata": {},
   "outputs": [],
   "source": [
    "data_dir = '../data'\n",
    "image_datasets = {\n",
    "    x: datasets.ImageFolder(os.path.join(data_dir, x), transform=tranform[x])\n",
    "    for x in ['train', 'val']\n",
    "}\n",
    "\n",
    "dataloaders = {\n",
    "    x: torch.utils.data.DataLoader(image_datasets[x], batch_size=16, shuffle=True)\n",
    "    for x in ['train', 'val']\n",
    "}\n",
    "\n",
    "class_names = image_datasets['train'].classes"
   ]
  },
  {
   "cell_type": "markdown",
   "id": "3d5cab73",
   "metadata": {},
   "source": [
    "## 3. Define a simple Convolutional Neural Network (CNN)\n",
    "\n",
    "Convolutional Neural Networks (CNNs) are deep learning models designed to process data with a grid-like topology such as images. They are the foundation for most modern computer vision applications to detect features within visual data."
   ]
  },
  {
   "cell_type": "code",
   "execution_count": 13,
   "id": "72a18dbb",
   "metadata": {},
   "outputs": [],
   "source": [
    "# class SimpleCNN(nn.Module):\n",
    "#     def __init__(self):\n",
    "#         super(SimpleCNN, self).__init__()\n",
    "#         self.features = nn.Sequential(\n",
    "#             nn.Conv2d(3, 16, kernel_size=3, padding=1),\n",
    "#             nn.ReLU(),\n",
    "#             nn.MaxPool2d(2),\n",
    "#             nn.Conv2d(16, 32, kernel_size=3, padding=1),\n",
    "#             nn.ReLU(),\n",
    "#             nn.MaxPool2d(2)\n",
    "#         )\n",
    "#         self.classifier = nn.Sequential(\n",
    "#             nn.Flatten(),\n",
    "#             nn.Linear(32 * 32 * 32, 64),\n",
    "#             nn.ReLU(),\n",
    "#             nn.Linear(64, 2)\n",
    "#         )\n",
    "\n",
    "#     def forward(self, x):\n",
    "#         x = self.features(x)\n",
    "#         x = self.classifier(x)\n",
    "#         return x\n",
    "\n",
    "model = SimpleCNN()"
   ]
  },
  {
   "cell_type": "markdown",
   "id": "5ebd0c29",
   "metadata": {},
   "source": [
    "## 4. Loss and optimizer"
   ]
  },
  {
   "cell_type": "code",
   "execution_count": 14,
   "id": "ee7befd1",
   "metadata": {},
   "outputs": [],
   "source": [
    "criterion = nn.CrossEntropyLoss()\n",
    "optimizer = optim.Adam(model.parameters(), lr=0.001)"
   ]
  },
  {
   "cell_type": "markdown",
   "id": "774e33df",
   "metadata": {},
   "source": [
    "## 5. Training loop"
   ]
  },
  {
   "cell_type": "code",
   "execution_count": null,
   "id": "34a3b2e9",
   "metadata": {},
   "outputs": [
    {
     "name": "stdout",
     "output_type": "stream",
     "text": [
      "Eposh 1\n"
     ]
    },
    {
     "name": "stderr",
     "output_type": "stream",
     "text": [
      "d:\\MyProjects\\PyTorchImageClassifierDemo\\.venv\\Lib\\site-packages\\PIL\\TiffImagePlugin.py:950: UserWarning: Truncated File Read\n",
      "  warnings.warn(str(msg))\n"
     ]
    },
    {
     "name": "stdout",
     "output_type": "stream",
     "text": [
      "Train Loss: 791.408473\n",
      "Eposh 2\n"
     ]
    }
   ],
   "source": [
    "device = torch.device(\"cuda\" if torch.cuda.is_available() else \"cpu\")\n",
    "model.to(device)\n",
    "\n",
    "for epoch in range(6):  #use more epochs for better performance\n",
    "    print(f\"Eposh {epoch+1}\")\n",
    "    model.train()\n",
    "    running_loss = 0\n",
    "    for images, labels in dataloaders['train']:\n",
    "        images, labels = images.to(device), labels.to(device)\n",
    "        outputs = model(images)\n",
    "        loss = criterion(outputs, labels)\n",
    "\n",
    "        optimizer.zero_grad()\n",
    "        loss.backward()\n",
    "        optimizer.step()\n",
    "\n",
    "        running_loss += loss.item()\n",
    "    \n",
    "    print(f'Train Loss: {running_loss:4f}')\n",
    "        "
   ]
  },
  {
   "cell_type": "markdown",
   "id": "351ec879",
   "metadata": {},
   "source": [
    "## 6. Evaluation on validation set"
   ]
  },
  {
   "cell_type": "code",
   "execution_count": 9,
   "id": "703f2bc6",
   "metadata": {},
   "outputs": [
    {
     "name": "stdout",
     "output_type": "stream",
     "text": [
      "Validation Accuracy: 79.151661%\n"
     ]
    }
   ],
   "source": [
    "model.eval()\n",
    "correct = total = 0\n",
    "with torch.no_grad():\n",
    "    for images, labels in dataloaders['val']:\n",
    "        images, labels = images.to(device), labels.to(device)\n",
    "        outputs = model(images)\n",
    "        _, predicted = torch.max(outputs, 1)\n",
    "        total += labels.size(0)\n",
    "        correct += (predicted == labels).sum().item()\n",
    "\n",
    "print(f'Validation Accuracy: {100 * correct /total:2f}%')"
   ]
  },
  {
   "cell_type": "markdown",
   "id": "f7ac55b3",
   "metadata": {},
   "source": [
    "## Test the model on a single image"
   ]
  },
  {
   "cell_type": "code",
   "execution_count": 10,
   "id": "08e592ec",
   "metadata": {},
   "outputs": [
    {
     "name": "stdout",
     "output_type": "stream",
     "text": [
      "Prediction: dogs\n"
     ]
    }
   ],
   "source": [
    "from PIL import Image\n",
    "\n",
    "def predict_image(img_path):\n",
    "    image = Image.open(img_path)\n",
    "    image = tranform['val'](image).unsqueeze(0).to(device)\n",
    "    output = model(image)\n",
    "    _, predicted = torch.max(output, 1)\n",
    "    print(f\"Prediction: {class_names[predicted.item()]}\")\n",
    "\n",
    "predict_image(\"data/predict/dogs/set2-55.jpg\")"
   ]
  },
  {
   "cell_type": "markdown",
   "id": "1acb56a1",
   "metadata": {},
   "source": [
    "## Save the model"
   ]
  },
  {
   "cell_type": "code",
   "execution_count": 13,
   "id": "fe49325d",
   "metadata": {},
   "outputs": [],
   "source": [
    "torch.save(model.state_dict(), 'models/catsvsDogsTorchModel.pth')"
   ]
  }
 ],
 "metadata": {
  "kernelspec": {
   "display_name": ".venv",
   "language": "python",
   "name": "python3"
  },
  "language_info": {
   "codemirror_mode": {
    "name": "ipython",
    "version": 3
   },
   "file_extension": ".py",
   "mimetype": "text/x-python",
   "name": "python",
   "nbconvert_exporter": "python",
   "pygments_lexer": "ipython3",
   "version": "3.12.5"
  }
 },
 "nbformat": 4,
 "nbformat_minor": 5
}
