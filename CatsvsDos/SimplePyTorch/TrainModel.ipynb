{
 "cells": [
  {
   "cell_type": "markdown",
   "id": "0997a132",
   "metadata": {},
   "source": [
    "# PyTorch Cats vs Dogs Classifier"
   ]
  },
  {
   "cell_type": "markdown",
   "id": "3e5b61a7",
   "metadata": {},
   "source": [
    "## import libraries"
   ]
  },
  {
   "cell_type": "code",
   "execution_count": 1,
   "id": "94259202",
   "metadata": {},
   "outputs": [],
   "source": [
    "import torch\n",
    "import torch.nn as nn\n",
    "import torch.optim as optim\n",
    "from torchvision import datasets, models, transforms\n",
    "import matplotlib.pyplot as plt\n",
    "import os\n",
    "import import_ipynb\n",
    "from SimpleCNN import SimpleCNN\n",
    "\n",
    "# Import constants defined in another file\n",
    "import Constants"
   ]
  },
  {
   "cell_type": "markdown",
   "id": "eee435f3",
   "metadata": {},
   "source": [
    "## 1. Define function for loading data"
   ]
  },
  {
   "cell_type": "code",
   "execution_count": 3,
   "id": "eab4c39f",
   "metadata": {},
   "outputs": [],
   "source": [
    "def get_data_loaders():\n",
    "    transform = {\n",
    "        'train': transforms.Compose([\n",
    "            transforms.Resize((IMAGE_SIZE, IMAGE_SIZE)),\n",
    "            transforms.RandomHorizontalFlip(),\n",
    "            transforms.ToTensor(),\n",
    "        ]),\n",
    "        'val': transforms.Compose([\n",
    "            transforms.Resize((IMAGE_SIZE, IMAGE_SIZE)),\n",
    "            transforms.ToTensor()\n",
    "        ])\n",
    "    }\n",
    "\n",
    "    datasets_ = {\n",
    "        x: datasets.ImageFolder(os.path.join(DATA_DIR, x), tranform=transform[x])\n",
    "        for x in ['train', 'val']\n",
    "    }\n",
    "\n",
    "    loaders = {\n",
    "        x: torch.utils.data.DataLoader(datasets_[x], batchSize=BATCH_SIZE, shuffle=True)\n",
    "        for x in ['train', 'val']\n",
    "    }\n",
    "\n",
    "    return loaders, datasets_['train'].classes\n",
    "\n"
   ]
  },
  {
   "cell_type": "markdown",
   "id": "573c96ea",
   "metadata": {},
   "source": [
    "## 2. Define the training function"
   ]
  },
  {
   "cell_type": "code",
   "execution_count": 4,
   "id": "3350b33d",
   "metadata": {},
   "outputs": [],
   "source": [
    "def train_model(model, loaders, epoch=3):\n",
    "\n",
    "    criterion = nn.CrossEntropyLoss()\n",
    "    optimizer = optim.Adam(mode.parameters(), lr=0.001)\n",
    "\n",
    "    model.to(DEVICE)\n",
    "    model.train()\n",
    "\n",
    "    for epoch in range(epochs):\n",
    "        running_loss = 0.0\n",
    "        for inputs, labels in loaders['train']:\n",
    "            inputs, labels = inputs.to(DEVICE), labels.to(DEVICE)\n",
    "\n",
    "            outputs = model(inputs)\n",
    "            loss = criterion(outputs, labels)\n",
    "\n",
    "            optimizer.zero_grad()\n",
    "            loss.backward()\n",
    "            optimizer.step()\n",
    "\n",
    "            running_loss += loss.item()\n",
    "\n",
    "            print(f'Epoch {epoch+1}, Loss: {running_loss:.4f}')"
   ]
  },
  {
   "cell_type": "markdown",
   "id": "351ec879",
   "metadata": {},
   "source": [
    "## 3. Define the function to evaluate the model"
   ]
  },
  {
   "cell_type": "code",
   "execution_count": null,
   "id": "703f2bc6",
   "metadata": {},
   "outputs": [
    {
     "name": "stdout",
     "output_type": "stream",
     "text": [
      "Validation Accuracy: 79.151661%\n"
     ]
    }
   ],
   "source": [
    "def evaluate_model(model, loader):\n",
    "\n",
    "    model.eval()\n",
    "    correct = total = 0\n",
    "\n",
    "    with torch.no_grad():\n",
    "        for inputs, labels in loader:\n",
    "            inputs, labels = inputs.to(DEVICE), labels.to(DEVICE)\n",
    "            outputs = model(inputs)\n",
    "            _, predicted = torch.max(outputs, 1)\n",
    "            total += labels.size(0)\n",
    "            correct += (predicted == labels).sum().item()\n",
    "    \n",
    "    acc = 100 * correct / total\n",
    "    print(f\"Validation Accruacy: {acc:.2f}%\")\n",
    "    return acc"
   ]
  },
  {
   "cell_type": "markdown",
   "id": "f7ac55b3",
   "metadata": {},
   "source": [
    "## Test the model on a single image"
   ]
  },
  {
   "cell_type": "code",
   "execution_count": 10,
   "id": "08e592ec",
   "metadata": {},
   "outputs": [
    {
     "name": "stdout",
     "output_type": "stream",
     "text": [
      "Prediction: dogs\n"
     ]
    }
   ],
   "source": [
    "from PIL import Image\n",
    "\n",
    "def predict_image(img_path):\n",
    "    image = Image.open(img_path)\n",
    "    image = tranform['val'](image).unsqueeze(0).to(device)\n",
    "    output = model(image)\n",
    "    _, predicted = torch.max(output, 1)\n",
    "    print(f\"Prediction: {class_names[predicted.item()]}\")\n",
    "\n",
    "predict_image(\"data/predict/dogs/set2-55.jpg\")"
   ]
  },
  {
   "cell_type": "markdown",
   "id": "1acb56a1",
   "metadata": {},
   "source": [
    "## Save the model"
   ]
  },
  {
   "cell_type": "code",
   "execution_count": 13,
   "id": "fe49325d",
   "metadata": {},
   "outputs": [],
   "source": [
    "torch.save(model.state_dict(), 'models/catsvsDogsTorchModel.pth')"
   ]
  }
 ],
 "metadata": {
  "kernelspec": {
   "display_name": ".venv",
   "language": "python",
   "name": "python3"
  },
  "language_info": {
   "codemirror_mode": {
    "name": "ipython",
    "version": 3
   },
   "file_extension": ".py",
   "mimetype": "text/x-python",
   "name": "python",
   "nbconvert_exporter": "python",
   "pygments_lexer": "ipython3",
   "version": "3.12.5"
  }
 },
 "nbformat": 4,
 "nbformat_minor": 5
}
